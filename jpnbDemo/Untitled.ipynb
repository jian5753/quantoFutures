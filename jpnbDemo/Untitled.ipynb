{
 "cells": [
  {
   "cell_type": "markdown",
   "metadata": {},
   "source": [
    "# env setting"
   ]
  },
  {
   "cell_type": "code",
   "execution_count": 68,
   "metadata": {},
   "outputs": [],
   "source": [
    "import sys\n",
    "\n",
    "from numpy.core.fromnumeric import mean\n",
    "sys.path.append(\"/Users/huangguanlun/pyProjects/quotoFuture/\")\n",
    "sys.path.append(\"/Users/huangguanlun/pyProjects/quotoFuture/qfVenv/lib/python3.8/site-packages/\")"
   ]
  },
  {
   "cell_type": "code",
   "execution_count": 69,
   "metadata": {},
   "outputs": [],
   "source": [
    "import simContainer\n",
    "import numpy as np\n",
    "from scipy.linalg import cholesky, inv"
   ]
  },
  {
   "cell_type": "code",
   "execution_count": 70,
   "metadata": {},
   "outputs": [],
   "source": [
    "FLOAT_FORMATTER=\"{:.5f}\".format\n",
    "np.set_printoptions(formatter={'float_kind':FLOAT_FORMATTER})"
   ]
  },
  {
   "cell_type": "markdown",
   "metadata": {},
   "source": [
    "# parameter and container declaration"
   ]
  },
  {
   "cell_type": "code",
   "execution_count": 71,
   "metadata": {},
   "outputs": [],
   "source": [
    "S0Arr = [100, 0.5]\n",
    "muArr = [0.5, 0.5]\n",
    "riskFreeRate = 0.03\n",
    "timePeriod = 0.5\n",
    "timePartitionCnt = 200\n",
    "qArr = [0, 0]\n",
    "sigmaArr = [0.03, 0.05]\n",
    "corrMatrx = [[1, 0.4], [0.4, 1]]\n",
    "simCnt = 5000\n",
    "repeatCnt = 10"
   ]
  },
  {
   "cell_type": "code",
   "execution_count": 72,
   "metadata": {},
   "outputs": [],
   "source": [
    "test = simContainer.pathSim(\n",
    "    S0Arr= S0Arr,\n",
    "    muArr = muArr,\n",
    "    riskFreeRate= riskFreeRate,\n",
    "    timePartitionCnt= timePartitionCnt,\n",
    "    timePeriod= timePeriod,\n",
    "    qArr= qArr,\n",
    "    sigmaArr= sigmaArr,\n",
    "    corrMatrx= corrMatrx,\n",
    "    simCnt= simCnt,\n",
    "    repeatCnt= repeatCnt\n",
    ")"
   ]
  },
  {
   "cell_type": "code",
   "execution_count": 73,
   "metadata": {},
   "outputs": [],
   "source": [
    "riskFreeRate = test.riskFreeRate"
   ]
  },
  {
   "cell_type": "code",
   "execution_count": 74,
   "metadata": {},
   "outputs": [
    {
     "data": {
      "text/plain": [
       "(10, 5000, 200, 2)"
      ]
     },
     "execution_count": 74,
     "metadata": {},
     "output_type": "execute_result"
    }
   ],
   "source": [
    "test.Z0Container.container.shape"
   ]
  },
  {
   "cell_type": "markdown",
   "metadata": {},
   "source": [
    "# path simulation"
   ]
  },
  {
   "cell_type": "code",
   "execution_count": 75,
   "metadata": {},
   "outputs": [],
   "source": [
    "test.var_cov()\n",
    "test.muShift()\n",
    "test.lnS0Append()\n",
    "test.cumsum()"
   ]
  },
  {
   "cell_type": "markdown",
   "metadata": {},
   "source": [
    "# carry cost computation"
   ]
  },
  {
   "cell_type": "code",
   "execution_count": 76,
   "metadata": {},
   "outputs": [],
   "source": [
    "posValSeries = test.stSeries[..., 0] / test.stSeries[..., 1]\n",
    "plSeries = np.diff(posValSeries, axis = 2)\n",
    "deltaTCnt = np.ones_like(plSeries) * np.arange(plSeries.shape[2])[::-1]\n",
    "extraCarryCostSeries= plSeries * np.exp(riskFreeRate * deltaTCnt * (timePeriod / timePartitionCnt))\n",
    "extraCarryCost = extraCarryCostSeries.sum(axis = 2)"
   ]
  },
  {
   "cell_type": "code",
   "execution_count": 77,
   "metadata": {},
   "outputs": [],
   "source": [
    "meanExtraCarryCost = extraCarryCost.mean(axis = 1).mean(axis = 0)"
   ]
  },
  {
   "cell_type": "code",
   "execution_count": 78,
   "metadata": {},
   "outputs": [
    {
     "data": {
      "text/plain": [
       "0.08900665149449749"
      ]
     },
     "execution_count": 78,
     "metadata": {},
     "output_type": "execute_result"
    }
   ],
   "source": [
    "meanExtraCarryCost"
   ]
  },
  {
   "cell_type": "code",
   "execution_count": 79,
   "metadata": {},
   "outputs": [],
   "source": [
    "initCost = (S0Arr[0] / S0Arr[1]) * np.exp(riskFreeRate * timePeriod)"
   ]
  },
  {
   "cell_type": "code",
   "execution_count": 80,
   "metadata": {},
   "outputs": [
    {
     "data": {
      "text/plain": [
       "241.24604988419614"
      ]
     },
     "execution_count": 80,
     "metadata": {},
     "output_type": "execute_result"
    }
   ],
   "source": [
    "initCost"
   ]
  },
  {
   "cell_type": "code",
   "execution_count": 81,
   "metadata": {},
   "outputs": [],
   "source": [
    "simAns = meanExtraCarryCost + initCost"
   ]
  },
  {
   "cell_type": "code",
   "execution_count": 82,
   "metadata": {},
   "outputs": [
    {
     "data": {
      "text/plain": [
       "array([[0.02121, 0.03536]])"
      ]
     },
     "execution_count": 82,
     "metadata": {},
     "output_type": "execute_result"
    }
   ],
   "source": [
    "var_T = test.sigmaArr * np.power(test.timePeriod, 0.5).reshape(1, -1)\n",
    "var_T"
   ]
  },
  {
   "cell_type": "code",
   "execution_count": 83,
   "metadata": {},
   "outputs": [
    {
     "data": {
      "text/plain": [
       "array([[1.00000, 0.40000],\n",
       "       [0.40000, 1.00000]])"
      ]
     },
     "execution_count": 83,
     "metadata": {},
     "output_type": "execute_result"
    }
   ],
   "source": [
    "test.corrMtrx"
   ]
  },
  {
   "cell_type": "code",
   "execution_count": 84,
   "metadata": {},
   "outputs": [
    {
     "data": {
      "text/plain": [
       "array([[0.00045, 0.00030],\n",
       "       [0.00030, 0.00125]])"
      ]
     },
     "execution_count": 84,
     "metadata": {},
     "output_type": "execute_result"
    }
   ],
   "source": [
    "covMtrx = test.corrMtrx * np.tensordot(var_T, var_T, axes= (0, 0))\n",
    "covMtrx"
   ]
  },
  {
   "cell_type": "code",
   "execution_count": 85,
   "metadata": {},
   "outputs": [],
   "source": [
    "formulaSol = S0Arr[0] * np.exp(riskFreeRate * timePeriod) * np.exp(covMtrx[0][1])"
   ]
  },
  {
   "cell_type": "code",
   "execution_count": 86,
   "metadata": {},
   "outputs": [
    {
     "data": {
      "text/plain": [
       "120.62302494209807"
      ]
     },
     "execution_count": 86,
     "metadata": {},
     "output_type": "execute_result"
    }
   ],
   "source": [
    "S0Arr[0] * np.exp(riskFreeRate * timePeriod)"
   ]
  },
  {
   "cell_type": "code",
   "execution_count": 87,
   "metadata": {},
   "outputs": [
    {
     "data": {
      "text/plain": [
       "120.65921727815966"
      ]
     },
     "execution_count": 87,
     "metadata": {},
     "output_type": "execute_result"
    }
   ],
   "source": [
    "formulaSol"
   ]
  },
  {
   "cell_type": "code",
   "execution_count": 88,
   "metadata": {},
   "outputs": [],
   "source": [
    "stdErr = extraCarryCost.mean(axis = 1).std()"
   ]
  },
  {
   "cell_type": "code",
   "execution_count": 89,
   "metadata": {},
   "outputs": [
    {
     "data": {
      "text/plain": [
       "0.005054530757104987"
      ]
     },
     "execution_count": 89,
     "metadata": {},
     "output_type": "execute_result"
    }
   ],
   "source": [
    "stdErr"
   ]
  },
  {
   "cell_type": "code",
   "execution_count": 90,
   "metadata": {},
   "outputs": [
    {
     "data": {
      "text/plain": [
       "(241.31843455631932, 241.33505653569063)"
      ]
     },
     "execution_count": 90,
     "metadata": {},
     "output_type": "execute_result"
    }
   ],
   "source": [
    "formulaSol / S0Arr[1], simAns"
   ]
  },
  {
   "cell_type": "code",
   "execution_count": 91,
   "metadata": {},
   "outputs": [
    {
     "data": {
      "text/plain": [
       "(241.3249474741764, 241.31843455631932, 241.34516559720484)"
      ]
     },
     "execution_count": 91,
     "metadata": {},
     "output_type": "execute_result"
    }
   ],
   "source": [
    "simAns - 2 * stdErr, formulaSol / S0Arr[1], simAns + 2 * stdErr"
   ]
  },
  {
   "cell_type": "code",
   "execution_count": 92,
   "metadata": {},
   "outputs": [
    {
     "data": {
      "text/plain": [
       "(120.65921727815966, 120.66752826784531)"
      ]
     },
     "execution_count": 92,
     "metadata": {},
     "output_type": "execute_result"
    }
   ],
   "source": [
    "formulaSol, simAns * S0Arr[1]"
   ]
  },
  {
   "cell_type": "code",
   "execution_count": null,
   "metadata": {},
   "outputs": [],
   "source": []
  }
 ],
 "metadata": {
  "kernelspec": {
   "display_name": "Python 3",
   "language": "python",
   "name": "python3"
  },
  "language_info": {
   "codemirror_mode": {
    "name": "ipython",
    "version": 3
   },
   "file_extension": ".py",
   "mimetype": "text/x-python",
   "name": "python",
   "nbconvert_exporter": "python",
   "pygments_lexer": "ipython3",
   "version": "3.8.5"
  }
 },
 "nbformat": 4,
 "nbformat_minor": 4
}
