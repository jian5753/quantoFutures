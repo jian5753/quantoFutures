{
 "cells": [
  {
   "cell_type": "markdown",
   "metadata": {},
   "source": [
    "# 程式環境參數設定與匯入套件"
   ]
  },
  {
   "cell_type": "code",
   "execution_count": 1,
   "metadata": {},
   "outputs": [],
   "source": [
    "import sys\n",
    "\n",
    "from numpy.core.fromnumeric import mean\n",
    "sys.path.append(\"/Users/huangguanlun/pyProjects/quotoFuture/\")\n",
    "sys.path.append(\"/Users/huangguanlun/pyProjects/quotoFuture/qfVenv/lib/python3.8/site-packages/\")"
   ]
  },
  {
   "cell_type": "code",
   "execution_count": 2,
   "metadata": {},
   "outputs": [],
   "source": [
    "import simContainer\n",
    "import numpy as np\n",
    "from scipy.linalg import cholesky, inv"
   ]
  },
  {
   "cell_type": "code",
   "execution_count": 3,
   "metadata": {},
   "outputs": [],
   "source": [
    "FLOAT_FORMATTER=\"{:.5f}\".format\n",
    "np.set_printoptions(formatter={'float_kind':FLOAT_FORMATTER})"
   ]
  },
  {
   "cell_type": "markdown",
   "metadata": {},
   "source": [
    "# 宣告與定義模擬相關的函數、物件\n",
    "## 物件 z0Container 的功用為抽取無相關的標準常態分配樣本，作為之後模擬路徑所用"
   ]
  },
  {
   "cell_type": "code",
   "execution_count": 4,
   "metadata": {},
   "outputs": [],
   "source": [
    "class z0Container():\n",
    "    def __init__(self, shape, varCntAxis):\n",
    "        self.shape = shape\n",
    "        self.varCntAxis = varCntAxis\n",
    "        self.container = np.random.normal(\n",
    "            loc = 0.0,\n",
    "            scale = 1.0,\n",
    "            size = self.shape\n",
    "        )\n",
    "    \n",
    "    def meanMatch(self, get=False):\n",
    "        tempMean = self.container.mean(axis = 2).reshape(self.shape[0], self.shape[1], 1, self.shape[3])\n",
    "        self.container -= tempMean\n",
    "        if get:\n",
    "            return self.container\n",
    "\n",
    "    def invCholesky(self, get=False):\n",
    "        self.meanMatch()\n",
    "        for i, trial in enumerate(self.container):\n",
    "            for j, simPath in enumerate(self.container[i]):\n",
    "                cov = np.cov(simPath, rowvar=False)\n",
    "                covUtriInv = inv(cholesky(cov, lower=False))\n",
    "                self.container[i][j] = simPath.dot(covUtriInv)\n",
    "        if get:\n",
    "            return self.container\n",
    "\n",
    "    def reset(self):\n",
    "        self.container = np.random.normal(\n",
    "            loc = 0.0,\n",
    "            scale = 1.0,\n",
    "            size = self.shape\n",
    "        )\n",
    "        self.invCholesky(get= False)"
   ]
  },
  {
   "cell_type": "markdown",
   "metadata": {},
   "source": [
    "## 物件 pathSim 為主要負責模擬路徑的模組，使用者輸入商品相關的參數、模擬路徑的數量以及重複試驗的次數後，再呼叫其方法便可進行股價路徑模擬。"
   ]
  },
  {
   "cell_type": "code",
   "execution_count": 5,
   "metadata": {},
   "outputs": [],
   "source": [
    "class pathSim():\n",
    "    def __init__(self, S0Arr, muArr, riskFreeRate, timePeriod, timePartitionCnt, qArr, sigmaArr, corrMatrx, simCnt, repeatCnt):\n",
    "        self.lnS0Arr = np.log(np.array(S0Arr))\n",
    "        self.muArr = np.array(muArr)\n",
    "        self.assetCnt = self.lnS0Arr.shape[0]\n",
    "        self.riskFreeRate = riskFreeRate\n",
    "        self.timePeriod = timePeriod\n",
    "        self.timePartitionCnt = timePartitionCnt\n",
    "        self.qArr = np.array(qArr)\n",
    "        self.sigmaArr = np.array(sigmaArr)\n",
    "        self.corrMtrx = np.array(corrMatrx)\n",
    "        self.simCnt = simCnt\n",
    "        self.repeatCnt = repeatCnt\n",
    "\n",
    "        # compute the distribution parameter of return in each delta_t period\n",
    "        self.delta_t = self.timePeriod / self.timePartitionCnt\n",
    "        self.mu_delta_t_return = (self.riskFreeRate - self.qArr - np.power(self.sigmaArr, 2) / 2) * (self.delta_t)\n",
    "        self.sigma_delta_t_return = (self.sigmaArr * np.power(self.delta_t, 0.5))\n",
    "        self.covMtrx = self.corrMtrx * np.tensordot(self.sigma_delta_t_return.reshape(1, -1), self.sigma_delta_t_return.reshape(1, -1), axes=(0,0)) \n",
    "\n",
    "        # draw from Z\n",
    "        self.Z0Container = z0Container([self.repeatCnt, self.simCnt, self.timePartitionCnt, self.assetCnt], varCntAxis= 3)\n",
    "        self.Z0 = self.Z0Container.meanMatch(get= True)\n",
    "\n",
    "        self.returnSeries = np.zeros_like(self.Z0)\n",
    "\n",
    "    def var_cov(self):\n",
    "        utri = cholesky(self.covMtrx)\n",
    "        # var-cov\n",
    "        self.returnSeries = np.tensordot(self.Z0, utri, axes = ([3], [0]))\n",
    "\n",
    "    def muShift(self):\n",
    "        # mu shift\n",
    "        self.returnSeries += self.mu_delta_t_return\n",
    "\n",
    "    def lnS0Append(self):\n",
    "        # append lnS0\n",
    "        self.lnS0ArrPanel = self.lnS0Arr * np.ones((self.repeatCnt, self.simCnt, 1, self.assetCnt))\n",
    "        self.lnStSeries = np.concatenate((self.lnS0ArrPanel, self.returnSeries), axis= 2)\n",
    "    \n",
    "    def cumsum(self):\n",
    "        # cumsum\n",
    "        self.lnStSeries = self.lnStSeries.cumsum(axis= 2)\n",
    "        self.stSeries = np.exp(self.lnStSeries)"
   ]
  },
  {
   "cell_type": "markdown",
   "metadata": {},
   "source": [
    "# 商品參數設定與變數宣告"
   ]
  },
  {
   "cell_type": "markdown",
   "metadata": {},
   "source": [
    "### 股價一開始為 100 (USD), 匯率為 1/30 USD/NTD"
   ]
  },
  {
   "cell_type": "code",
   "execution_count": 6,
   "metadata": {},
   "outputs": [],
   "source": [
    "S0Arr = [100, 1/30]"
   ]
  },
  {
   "cell_type": "markdown",
   "metadata": {},
   "source": [
    "### 隨機過程參數 mu 分別為 0.25, 0.02, sigma 分別為 0.03, 0.05, 兩者報酬率之相關係數為 0.4"
   ]
  },
  {
   "cell_type": "code",
   "execution_count": 7,
   "metadata": {},
   "outputs": [],
   "source": [
    "muArr = [0.25, 0.02]\n",
    "sigmaArr = [0.03, 0.05]\n",
    "corrMatrx = [[1, 0.4], [0.4, 1]]"
   ]
  },
  {
   "cell_type": "markdown",
   "metadata": {},
   "source": [
    "### 美國與台灣之無風險利率皆為 3% 且為常數"
   ]
  },
  {
   "cell_type": "code",
   "execution_count": 8,
   "metadata": {},
   "outputs": [],
   "source": [
    "riskFreeRate = 0.03"
   ]
  },
  {
   "cell_type": "markdown",
   "metadata": {},
   "source": [
    "### 不發放股利"
   ]
  },
  {
   "cell_type": "code",
   "execution_count": 9,
   "metadata": {},
   "outputs": [],
   "source": [
    "qArr = [0, 0]"
   ]
  },
  {
   "cell_type": "markdown",
   "metadata": {},
   "source": [
    "### 到期時間為半年後, 模擬時切成 200 段, 一次試驗模擬 10000 條路徑, 重複做 10 次試驗, 共模擬 100000 條路徑"
   ]
  },
  {
   "cell_type": "code",
   "execution_count": 10,
   "metadata": {},
   "outputs": [],
   "source": [
    "timePeriod = 0.5\n",
    "timePartitionCnt = 200\n",
    "simCnt = 10000\n",
    "repeatCnt = 10"
   ]
  },
  {
   "cell_type": "code",
   "execution_count": 11,
   "metadata": {},
   "outputs": [],
   "source": [
    "test = pathSim(\n",
    "    S0Arr= S0Arr,\n",
    "    muArr = muArr,\n",
    "    riskFreeRate= riskFreeRate,\n",
    "    timePartitionCnt= timePartitionCnt,\n",
    "    timePeriod= timePeriod,\n",
    "    qArr= qArr,\n",
    "    sigmaArr= sigmaArr,\n",
    "    corrMatrx= corrMatrx,\n",
    "    simCnt= simCnt,\n",
    "    repeatCnt= repeatCnt\n",
    ")"
   ]
  },
  {
   "cell_type": "markdown",
   "metadata": {},
   "source": [
    "# 執行股價路徑模擬"
   ]
  },
  {
   "cell_type": "code",
   "execution_count": 12,
   "metadata": {},
   "outputs": [],
   "source": [
    "test.var_cov()\n",
    "test.muShift()\n",
    "test.lnS0Append()\n",
    "test.cumsum()"
   ]
  },
  {
   "cell_type": "markdown",
   "metadata": {},
   "source": [
    "# 依照股價路徑計算 carry cost\n",
    "## 我們將 carry cost 分成兩部分，第一部分是建立部位後，不斷 roll over 所需要的成本。"
   ]
  },
  {
   "cell_type": "code",
   "execution_count": 13,
   "metadata": {},
   "outputs": [],
   "source": [
    "posValSeries = test.stSeries[..., 0] / test.stSeries[..., 1]\n",
    "plSeries = np.diff(posValSeries, axis = 2)\n",
    "deltaTCnt = np.ones_like(plSeries) * np.arange(plSeries.shape[2])[::-1]\n",
    "extraCarryCostSeries= plSeries * np.exp(riskFreeRate * deltaTCnt * (timePeriod / timePartitionCnt))\n",
    "extraCarryCost = extraCarryCostSeries.sum(axis = 2)\n",
    "meanExtraCarryCost = extraCarryCost.mean(axis = 1).mean(axis = 0)"
   ]
  },
  {
   "cell_type": "code",
   "execution_count": 14,
   "metadata": {},
   "outputs": [
    {
     "data": {
      "text/plain": [
       "1.2144537178570514"
      ]
     },
     "execution_count": 14,
     "metadata": {},
     "output_type": "execute_result"
    }
   ],
   "source": [
    "meanExtraCarryCost"
   ]
  },
  {
   "cell_type": "markdown",
   "metadata": {},
   "source": [
    "## 第二部分為一開始建立部位後的成本。"
   ]
  },
  {
   "cell_type": "code",
   "execution_count": 15,
   "metadata": {},
   "outputs": [],
   "source": [
    "initCost = (S0Arr[0] / S0Arr[1]) * np.exp(riskFreeRate * timePeriod)"
   ]
  },
  {
   "cell_type": "markdown",
   "metadata": {},
   "source": [
    "## carry cost 的總和即為模擬出來的商品價格"
   ]
  },
  {
   "cell_type": "code",
   "execution_count": 16,
   "metadata": {},
   "outputs": [
    {
     "name": "stdout",
     "output_type": "stream",
     "text": [
      "3046.5536475650138\n"
     ]
    }
   ],
   "source": [
    "simAns = meanExtraCarryCost + initCost\n",
    "print(simAns)"
   ]
  },
  {
   "cell_type": "markdown",
   "metadata": {},
   "source": [
    "# 以公式驗證模擬結果\n",
    "## 首先計算公式需要用到的，在Ｔ時刻，股價與匯率的共變異數"
   ]
  },
  {
   "cell_type": "code",
   "execution_count": 17,
   "metadata": {},
   "outputs": [
    {
     "data": {
      "text/plain": [
       "array([[0.02121, 0.03536]])"
      ]
     },
     "execution_count": 17,
     "metadata": {},
     "output_type": "execute_result"
    }
   ],
   "source": [
    "var_T = test.sigmaArr * np.power(test.timePeriod, 0.5).reshape(1, -1)\n",
    "var_T"
   ]
  },
  {
   "cell_type": "code",
   "execution_count": 18,
   "metadata": {},
   "outputs": [
    {
     "data": {
      "text/plain": [
       "array([[0.00045, 0.00030],\n",
       "       [0.00030, 0.00125]])"
      ]
     },
     "execution_count": 18,
     "metadata": {},
     "output_type": "execute_result"
    }
   ],
   "source": [
    "covMtrx = test.corrMtrx * np.tensordot(var_T, var_T, axes= (0, 0))\n",
    "covMtrx"
   ]
  },
  {
   "cell_type": "markdown",
   "metadata": {},
   "source": [
    "## 公式的計算結果為本國貨幣的價格，須經由t=0時刻之匯率轉換成外幣的價格"
   ]
  },
  {
   "cell_type": "code",
   "execution_count": 19,
   "metadata": {},
   "outputs": [
    {
     "name": "stdout",
     "output_type": "stream",
     "text": [
      "101.54176442197598\n"
     ]
    }
   ],
   "source": [
    "formulaSol = S0Arr[0] * np.exp(riskFreeRate * timePeriod) * np.exp(covMtrx[0][1])\n",
    "print(formulaSol)"
   ]
  },
  {
   "cell_type": "code",
   "execution_count": 20,
   "metadata": {},
   "outputs": [
    {
     "data": {
      "text/plain": [
       "3046.2529326592794"
      ]
     },
     "execution_count": 20,
     "metadata": {},
     "output_type": "execute_result"
    }
   ],
   "source": [
    "formulaSol / S0Arr[1]"
   ]
  },
  {
   "cell_type": "markdown",
   "metadata": {},
   "source": [
    "# 比較結果 "
   ]
  },
  {
   "cell_type": "code",
   "execution_count": 21,
   "metadata": {},
   "outputs": [
    {
     "name": "stdout",
     "output_type": "stream",
     "text": [
      "模擬價格：3046.5536475650138, 公式解：3046.2529326592794\n"
     ]
    }
   ],
   "source": [
    "print(f\"模擬價格：{simAns}, 公式解：{formulaSol/S0Arr[1]}\")"
   ]
  }
 ],
 "metadata": {
  "kernelspec": {
   "display_name": "Python 3",
   "language": "python",
   "name": "python3"
  },
  "language_info": {
   "codemirror_mode": {
    "name": "ipython",
    "version": 3
   },
   "file_extension": ".py",
   "mimetype": "text/x-python",
   "name": "python",
   "nbconvert_exporter": "python",
   "pygments_lexer": "ipython3",
   "version": "3.8.5"
  }
 },
 "nbformat": 4,
 "nbformat_minor": 4
}
